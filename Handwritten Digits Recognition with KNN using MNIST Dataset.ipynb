{
 "cells": [
  {
   "cell_type": "code",
   "execution_count": 19,
   "metadata": {},
   "outputs": [],
   "source": [
    "import tensorflow as tf\n",
    "import numpy as np"
   ]
  },
  {
   "cell_type": "code",
   "execution_count": 20,
   "metadata": {},
   "outputs": [],
   "source": [
    "#import NIST data\n",
    "from tensorflow.examples.tutorials.mnist import input_data"
   ]
  },
  {
   "cell_type": "code",
   "execution_count": 21,
   "metadata": {},
   "outputs": [
    {
     "name": "stdout",
     "output_type": "stream",
     "text": [
      "Extracting mnist_data/train-images-idx3-ubyte.gz\n",
      "Extracting mnist_data/train-labels-idx1-ubyte.gz\n",
      "Extracting mnist_data/t10k-images-idx3-ubyte.gz\n",
      "Extracting mnist_data/t10k-labels-idx1-ubyte.gz\n"
     ]
    }
   ],
   "source": [
    "#store the MNIST data\n",
    "mnist = input_data.read_data_sets(\"mnist_data/\", one_hot = True)"
   ]
  },
  {
   "cell_type": "code",
   "execution_count": 22,
   "metadata": {},
   "outputs": [],
   "source": [
    "training_digits, training_labels = mnist.train.next_batch(5000) #choosing 5000 data from 60000 to train\n",
    "test_digits, test_labels = mnist.test.next_batch(200) #choosing 200 data to test"
   ]
  },
  {
   "cell_type": "code",
   "execution_count": 23,
   "metadata": {},
   "outputs": [],
   "source": [
    "#setup placeholders to hold our training & test digits\n",
    "training_digits_pl = tf.placeholder(\"float\", [None, 784])\n",
    "#float -> grayscale representation where pixel value is 0-1.4\n",
    "#28x28 pixels = 784\n",
    "#None -> index no\n",
    "\n",
    "test_digit_pl = tf.placeholder(\"float\", [784])\n"
   ]
  },
  {
   "cell_type": "code",
   "execution_count": 24,
   "metadata": {},
   "outputs": [],
   "source": [
    "#Calculate L1 Distance for nearest neighbour\n",
    "\n",
    "l1_distance = tf.abs(tf.add(training_digits_pl, tf.negative(test_digit_pl)))"
   ]
  },
  {
   "cell_type": "code",
   "execution_count": 34,
   "metadata": {},
   "outputs": [],
   "source": [
    "#find the image that is closest to the test image\n",
    "\n",
    "distance = tf.reduce_sum(l1_distance, axis = 1)\n",
    "\n",
    "#Prediction: get min distance index (nearest neighbour) (K=1)\n",
    "pred = tf.arg_min(distance,0)"
   ]
  },
  {
   "cell_type": "code",
   "execution_count": 35,
   "metadata": {},
   "outputs": [
    {
     "ename": "SyntaxError",
     "evalue": "invalid syntax (<ipython-input-35-6c1709bd9e0b>, line 19)",
     "output_type": "error",
     "traceback": [
      "\u001b[1;36m  File \u001b[1;32m\"<ipython-input-35-6c1709bd9e0b>\"\u001b[1;36m, line \u001b[1;32m19\u001b[0m\n\u001b[1;33m    if np.argmax(training_labels[nn_index]) == np.argmax(test_labels[i]):\u001b[0m\n\u001b[1;37m                                                                        ^\u001b[0m\n\u001b[1;31mSyntaxError\u001b[0m\u001b[1;31m:\u001b[0m invalid syntax\n"
     ]
    }
   ],
   "source": [
    "#to get the accuracy\n",
    "accuracy = 0.\n",
    "\n",
    "init = tf.global_variables_initializer()\n",
    "\n",
    "with tf.Session() as sess:\n",
    "    sess.run(init)\n",
    "    \n",
    "    for i in range(len(test_digits)):\n",
    "        #predict the value of test digits using KNN\n",
    "        \n",
    "        #get nearest neighbour index\n",
    "        nn_index = sess.run(pred, feed_dict = {training_digits_pl: training_digits, test_digits_pl: test_digits[i, :]})\n",
    "        \n",
    "        #use these index to find the training dataset labels which is the closest to the test data and compare it to True Label\n",
    "        print(\"Test\",i,\"Prediction:\",np.argmax(training_labels[nn_index], \"True Label:\", np.argmax(test_labels[i]))\n",
    "              \n",
    "        #calculate accuracy\n",
    "        if np.argmax(training_labels[nn_index]) == np.argmax(test_labels[i]):\n",
    "            accuracy += 1./len(test_digits)\n",
    "    print(\"Done!\")\n",
    "    print(\"Accuracy:\", accuracy)"
   ]
  },
  {
   "cell_type": "code",
   "execution_count": null,
   "metadata": {},
   "outputs": [],
   "source": []
  }
 ],
 "metadata": {
  "kernelspec": {
   "display_name": "Python 3",
   "language": "python",
   "name": "python3"
  },
  "language_info": {
   "codemirror_mode": {
    "name": "ipython",
    "version": 3
   },
   "file_extension": ".py",
   "mimetype": "text/x-python",
   "name": "python",
   "nbconvert_exporter": "python",
   "pygments_lexer": "ipython3",
   "version": "3.7.3"
  }
 },
 "nbformat": 4,
 "nbformat_minor": 2
}
